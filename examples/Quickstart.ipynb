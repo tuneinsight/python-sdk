{
  "cells": [
    {
      "cell_type": "markdown",
      "metadata": {},
      "source": [
        "# Welcome to Diapason\n",
        "\n",
        "This notebook provides an overview of Diapason, the official Python SDK for Tune Insight. Diapason is an alternative way to access Tune Insight instances, and can be used in parallel to the frontend. Note that you can run this notebook on any machine that can connect to your instance (or anywhere connected to the Internet if your instance has a public address).\n",
        "\n",
        "In this tutorial, you will learn to connect to an instance, connect datasources, and create and run computations. The goal is to provide an introduction to the different concepts of Diapason. We invite you to read [the documentation](https://dev.tuneinsight.com/docs/Usage/python-sdk/) for more detail on any of these points."
      ]
    },
    {
      "cell_type": "markdown",
      "metadata": {},
      "source": [
        "### Installation\n",
        "\n",
        "Install the latest version of the Tune Insight SDK with `pip`.\n",
        "\n",
        "```sh\n",
        "pip install tuneinsight\n",
        "```\n",
        "\n",
        "If you encounter any issues during the installation, it is recommended to set up a virtual environment exclusively for Diapason, e.g. using [conda](https://docs.conda.io/projects/conda/en/latest/user-guide/tasks/manage-environments.html). This will avoid creating conflicts with other libraries that you might have already installed. If problems persist, consult the [troubleshooting guide](https://github.com/tuneinsight/python-sdk/blob/main/README.md#troubleshooting)."
      ]
    },
    {
      "cell_type": "markdown",
      "metadata": {},
      "source": [
        "### Connecting to your instance\n",
        "\n",
        "The first step is to set up a `Diapason` client to connect to the instance. The recommended way to instantiate a client is the `login` method. This method requires minimal configuration beforehand: you will need the URL of your instance and its frontend client ID. Contact your administrator if you are unsure how to set these."
      ]
    },
    {
      "cell_type": "code",
      "execution_count": 1,
      "metadata": {},
      "outputs": [],
      "source": [
        "from tuneinsight import Diapason"
      ]
    },
    {
      "cell_type": "code",
      "execution_count": 2,
      "metadata": {},
      "outputs": [],
      "source": [
        "client = Diapason.from_config(\n",
        "    api_url=\"<api_url>/api\", # The url of the Tune Insight API to which the client will connect. You might not need /api.\n",
        "    oidc_client_id=\"<frontend_client_id>\", # This is the front client id given by Tune Insight in the Portal.\n",
        ")"
      ]
    },
    {
      "cell_type": "markdown",
      "metadata": {},
      "source": [
        "The following cell will open a window in your browser to prompt your for your login credentials. Other connection modes are available, e.g. from a configuration file (see [the documentation](https://dev.tuneinsight.com/docs/Usage/python-sdk/) for the options available)."
      ]
    },
    {
      "cell_type": "code",
      "execution_count": 4,
      "metadata": {},
      "outputs": [],
      "source": [
        "# UNCOMMENT THIS CELL\n",
        "# client.login()"
      ]
    },
    {
      "cell_type": "markdown",
      "metadata": {},
      "source": [
        "### Connecting a datasource\n",
        "\n",
        "Tune Insight instances support many types of data sources (databases, CSVs, APIs, etc.). The Diapason client defines methods to connect to data sources of each type (e.g., `client.new_api_datasource`). You can also connect and configure these datasources using the frontend interface, and retrieve them to use in Diapason with the `client.get_datasource(name=...)` method.\n",
        "\n",
        "Tune Insight instances also support the ability to generate _mock_ datasets with an arbitrary structure. These datasets can be used to prototype your projects or, in this case, as a demo. In this notebook, we will create a simple dataset with a few demographic attributes and use it in our computations."
      ]
    },
    {
      "cell_type": "code",
      "execution_count": 5,
      "metadata": {},
      "outputs": [],
      "source": [
        "from tuneinsight.utils.datagen import GenericGenerator\n",
        "\n",
        "generator = GenericGenerator()"
      ]
    },
    {
      "cell_type": "markdown",
      "metadata": {},
      "source": [
        "Let's add some basic demographic attributes: name, age, hair color, height, weight."
      ]
    },
    {
      "cell_type": "code",
      "execution_count": 6,
      "metadata": {},
      "outputs": [],
      "source": [
        "generator.attributes.add_name(\"name\", pattern=\"{first_name} {last_name}\")\n",
        "generator.attributes.add_integer(\"age\", min_value=0, max_value=120)\n",
        "generator.attributes.add_categorical(\"hair_color\", possible_values=[\"black\", \"brown\", \"blond\", \"white\", \"red\", \"other\"])\n",
        "generator.attributes.add_continuous(\"height\", min_value=50, max_value=200)\n",
        "generator.attributes.add_continuous(\"weight\", min_value=5, max_value=150)"
      ]
    },
    {
      "cell_type": "markdown",
      "metadata": {},
      "source": [
        "By default, attributes are generated indepedently. We can also add constraints to make the data more realistic: in this case, we will add some correlations between attributes."
      ]
    },
    {
      "cell_type": "code",
      "execution_count": 7,
      "metadata": {},
      "outputs": [],
      "source": [
        "generator.constraints.apply_correlation([\"height\", \"weight\"], correlation=0.8)\n",
        "generator.constraints.apply_correlation([\"age\", \"height\"], correlation=0.5)"
      ]
    },
    {
      "cell_type": "markdown",
      "metadata": {},
      "source": [
        "We can now use the generator to create a mock dataset.\n",
        "\n",
        "_Note: we need to increase the timeout threshold (by default 5\"), as this can take some time -- about 10 seconds._"
      ]
    },
    {
      "cell_type": "code",
      "execution_count": 8,
      "metadata": {},
      "outputs": [],
      "source": [
        "with client.timeout(60):\n",
        "    datasource = generator.generate(client.client, num_rows=1000, table_name=\"people\", seed=\"example\")"
      ]
    },
    {
      "cell_type": "markdown",
      "metadata": {},
      "source": [
        "### Creating a project\n",
        "\n",
        "The next step is to create a project to collaborate with others. In this first example, we will allow this project to run without requiring authorization from clients."
      ]
    },
    {
      "cell_type": "code",
      "execution_count": 9,
      "metadata": {},
      "outputs": [],
      "source": [
        "project = client.new_project(\"A very cool project\")"
      ]
    },
    {
      "attachments": {
        "image.png": {
          "image/png": "[encoded data removed]"
        }
      },
      "cell_type": "markdown",
      "metadata": {},
      "source": [
        "Going on the frontend, you should be able to see that the new project has been created. You can access it from there, and configure it as you wish.\n",
        "\n",
        "![image.png](attachment:image.png)\n",
        "\n",
        "In this tutorial, we will instead focus on what can be achieved with Diapason :-) But feel free to connect to the frontend and see how things change as we update the project.\n",
        "\n",
        "Now, let's connect our datasource to the project:"
      ]
    },
    {
      "cell_type": "code",
      "execution_count": 10,
      "metadata": {},
      "outputs": [],
      "source": [
        "project.set_datasource(datasource)"
      ]
    },
    {
      "cell_type": "markdown",
      "metadata": {},
      "source": [
        "Project objects provide many methods to display various aspects of their status or configuration. For instance, we can check that datasources are connected to the project. Observe that, since we haven't share the project yet, we will only get information about the datasource that we connected."
      ]
    },
    {
      "cell_type": "code",
      "execution_count": 11,
      "metadata": {},
      "outputs": [
        {
          "data": {
            "text/markdown": [
              "### Participant:  `Organization_A` (contributor)\n"
            ],
            "text/plain": [
              "<IPython.core.display.Markdown object>"
            ]
          },
          "metadata": {},
          "output_type": "display_data"
        },
        {
          "data": {
            "text/markdown": [
              "#### Table name: `people`\n"
            ],
            "text/plain": [
              "<IPython.core.display.Markdown object>"
            ]
          },
          "metadata": {},
          "output_type": "display_data"
        },
        {
          "data": {
            "text/html": [
              "<table border=\"1\" class=\"dataframe\">\n",
              "  <thead>\n",
              "    <tr style=\"text-align: right;\">\n",
              "      <th>name</th>\n",
              "      <th>age</th>\n",
              "      <th>hair_color</th>\n",
              "      <th>height</th>\n",
              "      <th>weight</th>\n",
              "    </tr>\n",
              "  </thead>\n",
              "  <tbody>\n",
              "    <tr>\n",
              "      <td>TEXT</td>\n",
              "      <td>INT8</td>\n",
              "      <td>TEXT</td>\n",
              "      <td>FLOAT8</td>\n",
              "      <td>FLOAT8</td>\n",
              "    </tr>\n",
              "  </tbody>\n",
              "</table>"
            ],
            "text/plain": [
              "<IPython.core.display.HTML object>"
            ]
          },
          "metadata": {},
          "output_type": "display_data"
        },
        {
          "data": {
            "text/markdown": [
              "<br>"
            ],
            "text/plain": [
              "<IPython.core.display.Markdown object>"
            ]
          },
          "metadata": {},
          "output_type": "display_data"
        }
      ],
      "source": [
        "project.display_datasources()"
      ]
    },
    {
      "cell_type": "markdown",
      "metadata": {},
      "source": [
        "#### Setting up a datasource query\n",
        "\n",
        "The mock data is stored in a database. In order to read data from a database, Tune Insight instances require that you define a database query. The query can either be defined directly in the computation, or it can be defined at the project level through a _local data selection_. We will do the latter.\n"
      ]
    },
    {
      "cell_type": "code",
      "execution_count": 12,
      "metadata": {},
      "outputs": [],
      "source": [
        "lds = project.get_local_data_selection()\n",
        "lds.datasource.set_database_query(\"SELECT * FROM people\")"
      ]
    },
    {
      "cell_type": "markdown",
      "metadata": {},
      "source": [
        "### Setting up project policies\n",
        "\n",
        "Policies define limitations on what users can do on a project, and can be used to add additional privacy and security requirements in a project. These range from basic features like limiting the allowed computation types to more advanced ones like execution quotas and differential privacy.\n",
        "\n",
        "Policies are also used to define the _authorization contract_ of a project. Before running a project, users must _authorize_ it. Authorizing a project locks some parts of the computation workflow, as defined by the contract. By default, _all_ parts are locked. In this notebook, we want to be able to run different types of computations, with different parameters and preprocessing, so we will change the contract to be more permissive."
      ]
    },
    {
      "cell_type": "code",
      "execution_count": 13,
      "metadata": {},
      "outputs": [],
      "source": [
        "policy = project.get_policy()\n",
        "policy.set_contract(computation_type=True, computation_parameters=True, preprocessing=True, data_query=True)\n",
        "project.set_policy(policy)"
      ]
    },
    {
      "cell_type": "markdown",
      "metadata": {},
      "source": [
        "#### Sharing a project\n",
        "\n",
        "In order to run collective computations, we need to share the project with other participants."
      ]
    },
    {
      "cell_type": "code",
      "execution_count": 14,
      "metadata": {},
      "outputs": [],
      "source": [
        "# project.share()"
      ]
    },
    {
      "cell_type": "markdown",
      "metadata": {},
      "source": [
        "### Setting up computations\n",
        "\n",
        "So far, we have only done mostly \"administrative\" tasks, that can be easily be performed with the frontend. It is when configuring and running computations that Diapason truly shines, unlocking the full power of Tune Insight instances.\n",
        "\n",
        "With Diapason:\n",
        "1. you have access to all computations,\n",
        "1. you can configure _preprocessing_ operations to manipulate the data before the computation,\n",
        "1. you can run multiple computations in a single project.\n",
        "\n",
        "To create a computation, you will need to instantiate a `Computation` object of the chosen type on the project. Depending on the specific computation, the object can take additional parameters in its constructor to configure it. All computations implement a `.run` method that returns the results, usually formatted in a useful format (the specific format depends on the computation), and some also implement higher level methods that provide more complex functionality."
      ]
    },
    {
      "cell_type": "markdown",
      "metadata": {},
      "source": [
        "#### A very simple computation: dataset length\n",
        "\n",
        "To begin with, and to illustrate the general concepts, let's begin with the dataset length operation (also called `Count`)."
      ]
    },
    {
      "cell_type": "code",
      "execution_count": 15,
      "metadata": {},
      "outputs": [],
      "source": [
        "from tuneinsight.computations import DatasetLength"
      ]
    },
    {
      "cell_type": "code",
      "execution_count": 16,
      "metadata": {},
      "outputs": [],
      "source": [
        "computation = DatasetLength(project)"
      ]
    },
    {
      "cell_type": "markdown",
      "metadata": {},
      "source": [
        "Before running the project, all participants involved must authorize it. In this notebook, we will only run local computations, so we only need to authorize the project on this instance."
      ]
    },
    {
      "cell_type": "code",
      "execution_count": 17,
      "metadata": {},
      "outputs": [],
      "source": [
        "project.request_authorization()"
      ]
    },
    {
      "cell_type": "code",
      "execution_count": 18,
      "metadata": {},
      "outputs": [],
      "source": [
        "# Note: only DPOs and administrators can authorize a project, so the following line might not work for you.\n",
        "# For the purposes of this notebook, authorization is not actually required (only local computations), so you can ignore errors in this cell.\n",
        "project.authorize() "
      ]
    },
    {
      "cell_type": "markdown",
      "metadata": {},
      "source": [
        "Let's run the computation and get the result :)\n",
        "\n",
        "_Note: in this notebook, we will run mostly local computations, since collective computations would require the approval of all other parties in the network. However, as you will see below, running a collective computation is just a matter of setting a flag to `True` -- the rest of the code remains unchanged._"
      ]
    },
    {
      "cell_type": "code",
      "execution_count": 19,
      "metadata": {},
      "outputs": [
        {
          "data": {
            "text/plain": [
              "1000"
            ]
          },
          "execution_count": 19,
          "metadata": {},
          "output_type": "execute_result"
        }
      ],
      "source": [
        "computation.run(local=True)"
      ]
    },
    {
      "cell_type": "markdown",
      "metadata": {},
      "source": [
        "As expected, we count a thousand records in the data.\n",
        "\n",
        "Let's do something a bit more interesting: an encrypted aggregation (equivalently called `Sum` in Diapason)."
      ]
    },
    {
      "cell_type": "code",
      "execution_count": 20,
      "metadata": {},
      "outputs": [],
      "source": [
        "from tuneinsight.computations import Aggregation"
      ]
    },
    {
      "cell_type": "markdown",
      "metadata": {},
      "source": [
        "This computation performs a sum over numerical data: we must define a subset of columns to use it. A simple way to do this is to define it in the constructor."
      ]
    },
    {
      "cell_type": "code",
      "execution_count": 21,
      "metadata": {},
      "outputs": [],
      "source": [
        "computation = Aggregation(project, columns=[\"weight\", \"height\"])"
      ]
    },
    {
      "cell_type": "code",
      "execution_count": 22,
      "metadata": {},
      "outputs": [
        {
          "data": {
            "text/html": [
              "<div>\n",
              "<style scoped>\n",
              "    .dataframe tbody tr th:only-of-type {\n",
              "        vertical-align: middle;\n",
              "    }\n",
              "\n",
              "    .dataframe tbody tr th {\n",
              "        vertical-align: top;\n",
              "    }\n",
              "\n",
              "    .dataframe thead th {\n",
              "        text-align: right;\n",
              "    }\n",
              "</style>\n",
              "<table border=\"1\" class=\"dataframe\">\n",
              "  <thead>\n",
              "    <tr style=\"text-align: right;\">\n",
              "      <th></th>\n",
              "      <th>Column</th>\n",
              "      <th>Total</th>\n",
              "    </tr>\n",
              "  </thead>\n",
              "  <tbody>\n",
              "    <tr>\n",
              "      <th>0</th>\n",
              "      <td>weight</td>\n",
              "      <td>77775.21</td>\n",
              "    </tr>\n",
              "    <tr>\n",
              "      <th>1</th>\n",
              "      <td>height</td>\n",
              "      <td>125071.56</td>\n",
              "    </tr>\n",
              "  </tbody>\n",
              "</table>\n",
              "</div>"
            ],
            "text/plain": [
              "   Column      Total\n",
              "0  weight   77775.21\n",
              "1  height  125071.56"
            ]
          },
          "execution_count": 22,
          "metadata": {},
          "output_type": "execute_result"
        }
      ],
      "source": [
        "computation.run(local=True)"
      ]
    },
    {
      "cell_type": "markdown",
      "metadata": {},
      "source": [
        "Let's now use preprocessing to make it more interesting (and showcase what you can do with Diapason). Computations have a `.preprocessing` attribute that allows you to build a preprocessing chain.\n",
        "\n",
        "Let's use it to compute a histogram of hair color values and of heights (divided in, say, 5 bins)."
      ]
    },
    {
      "cell_type": "code",
      "execution_count": 23,
      "metadata": {},
      "outputs": [],
      "source": [
        "computation = Aggregation(project)"
      ]
    },
    {
      "cell_type": "markdown",
      "metadata": {},
      "source": [
        "The `one_hot_encoding` operation creates 1-hot encoded columns. We must specify the list of possible values (`specified_types`) so that the operation works collectively, since the datasets being aggregated need to have consistent columns."
      ]
    },
    {
      "cell_type": "code",
      "execution_count": 24,
      "metadata": {},
      "outputs": [],
      "source": [
        "colors = [\"black\", \"brown\", \"blond\", \"white\", \"red\"]\n",
        "computation.preprocessing.one_hot_encoding(\"hair_color\", prefix=\"hair\", specified_types=colors);"
      ]
    },
    {
      "cell_type": "markdown",
      "metadata": {},
      "source": [
        "Let's compute a histogram of binned heights. For this, we first `cut` the values in one of five bins."
      ]
    },
    {
      "cell_type": "code",
      "execution_count": 25,
      "metadata": {},
      "outputs": [
        {
          "data": {
            "text/plain": [
              "<tuneinsight.computations.preprocessing.PreprocessingBuilder at 0x7ae840ddbed0>"
            ]
          },
          "execution_count": 25,
          "metadata": {},
          "output_type": "execute_result"
        }
      ],
      "source": [
        "height_bins = [\"small\", \"average\", \"tall\"]\n",
        "\n",
        "computation.preprocessing.cut(\"height\", \"binned_height\", cuts=[50, 140, 180, 200], labels=height_bins)\n",
        "computation.preprocessing.one_hot_encoding(\"binned_height\", prefix=\"height\", specified_types=height_bins)"
      ]
    },
    {
      "cell_type": "markdown",
      "metadata": {},
      "source": [
        "Let's (arbitrarily) consider only adults."
      ]
    },
    {
      "cell_type": "code",
      "execution_count": 26,
      "metadata": {},
      "outputs": [],
      "source": [
        "from tuneinsight import models\n",
        "computation.preprocessing.filter(\"age\", models.ComparisonType.GREATEREQ, \"18\", numerical=True);"
      ]
    },
    {
      "cell_type": "markdown",
      "metadata": {},
      "source": [
        "Next, we use `.select` to specify which columns to use."
      ]
    },
    {
      "cell_type": "code",
      "execution_count": 27,
      "metadata": {},
      "outputs": [],
      "source": [
        "computation.preprocessing.select(\n",
        "    [f\"hair_{color}\" for color in colors] + \n",
        "    [f\"height_{h}\" for h in height_bins]);"
      ]
    },
    {
      "cell_type": "code",
      "execution_count": 28,
      "metadata": {},
      "outputs": [
        {
          "data": {
            "text/html": [
              "<div>\n",
              "<style scoped>\n",
              "    .dataframe tbody tr th:only-of-type {\n",
              "        vertical-align: middle;\n",
              "    }\n",
              "\n",
              "    .dataframe tbody tr th {\n",
              "        vertical-align: top;\n",
              "    }\n",
              "\n",
              "    .dataframe thead th {\n",
              "        text-align: right;\n",
              "    }\n",
              "</style>\n",
              "<table border=\"1\" class=\"dataframe\">\n",
              "  <thead>\n",
              "    <tr style=\"text-align: right;\">\n",
              "      <th></th>\n",
              "      <th>Column</th>\n",
              "      <th>Total</th>\n",
              "    </tr>\n",
              "  </thead>\n",
              "  <tbody>\n",
              "    <tr>\n",
              "      <th>0</th>\n",
              "      <td>hair_black</td>\n",
              "      <td>138</td>\n",
              "    </tr>\n",
              "    <tr>\n",
              "      <th>1</th>\n",
              "      <td>hair_brown</td>\n",
              "      <td>143</td>\n",
              "    </tr>\n",
              "    <tr>\n",
              "      <th>2</th>\n",
              "      <td>hair_blond</td>\n",
              "      <td>140</td>\n",
              "    </tr>\n",
              "    <tr>\n",
              "      <th>3</th>\n",
              "      <td>hair_white</td>\n",
              "      <td>143</td>\n",
              "    </tr>\n",
              "    <tr>\n",
              "      <th>4</th>\n",
              "      <td>hair_red</td>\n",
              "      <td>140</td>\n",
              "    </tr>\n",
              "    <tr>\n",
              "      <th>5</th>\n",
              "      <td>height_small</td>\n",
              "      <td>478</td>\n",
              "    </tr>\n",
              "    <tr>\n",
              "      <th>6</th>\n",
              "      <td>height_average</td>\n",
              "      <td>244</td>\n",
              "    </tr>\n",
              "    <tr>\n",
              "      <th>7</th>\n",
              "      <td>height_tall</td>\n",
              "      <td>131</td>\n",
              "    </tr>\n",
              "  </tbody>\n",
              "</table>\n",
              "</div>"
            ],
            "text/plain": [
              "           Column  Total\n",
              "0      hair_black    138\n",
              "1      hair_brown    143\n",
              "2      hair_blond    140\n",
              "3      hair_white    143\n",
              "4        hair_red    140\n",
              "5    height_small    478\n",
              "6  height_average    244\n",
              "7     height_tall    131"
            ]
          },
          "execution_count": 28,
          "metadata": {},
          "output_type": "execute_result"
        }
      ],
      "source": [
        "computation.run(local=True)"
      ]
    },
    {
      "cell_type": "markdown",
      "metadata": {},
      "source": [
        "#### More advanced computation: group-by aggregation\n",
        "\n",
        "Computing histograms is a very common data science task, and doing it manually (as above) using preprocessing is time-consuming. To this end, the `Aggregation` can be parameterized to group the values before aggregating."
      ]
    },
    {
      "cell_type": "code",
      "execution_count": 29,
      "metadata": {},
      "outputs": [
        {
          "data": {
            "text/html": [
              "<div>\n",
              "<style scoped>\n",
              "    .dataframe tbody tr th:only-of-type {\n",
              "        vertical-align: middle;\n",
              "    }\n",
              "\n",
              "    .dataframe tbody tr th {\n",
              "        vertical-align: top;\n",
              "    }\n",
              "\n",
              "    .dataframe thead th {\n",
              "        text-align: right;\n",
              "    }\n",
              "</style>\n",
              "<table border=\"1\" class=\"dataframe\">\n",
              "  <thead>\n",
              "    <tr style=\"text-align: right;\">\n",
              "      <th></th>\n",
              "      <th>height</th>\n",
              "      <th>count</th>\n",
              "    </tr>\n",
              "  </thead>\n",
              "  <tbody>\n",
              "    <tr>\n",
              "      <th>0</th>\n",
              "      <td>[120,150)</td>\n",
              "      <td>209</td>\n",
              "    </tr>\n",
              "    <tr>\n",
              "      <th>1</th>\n",
              "      <td>[150,180)</td>\n",
              "      <td>192</td>\n",
              "    </tr>\n",
              "    <tr>\n",
              "      <th>2</th>\n",
              "      <td>[180,200)</td>\n",
              "      <td>137</td>\n",
              "    </tr>\n",
              "    <tr>\n",
              "      <th>3</th>\n",
              "      <td>[50,80)</td>\n",
              "      <td>202</td>\n",
              "    </tr>\n",
              "    <tr>\n",
              "      <th>4</th>\n",
              "      <td>[80,120)</td>\n",
              "      <td>260</td>\n",
              "    </tr>\n",
              "  </tbody>\n",
              "</table>\n",
              "</div>"
            ],
            "text/plain": [
              "      height  count\n",
              "0  [120,150)    209\n",
              "1  [150,180)    192\n",
              "2  [180,200)    137\n",
              "3    [50,80)    202\n",
              "4   [80,120)    260"
            ]
          },
          "execution_count": 29,
          "metadata": {},
          "output_type": "execute_result"
        }
      ],
      "source": [
        "computation = Aggregation(project,groups=[(\"height\",[50, 80, 120, 150, 180, 200])])\n",
        "computation.run(local=True)"
      ]
    },
    {
      "cell_type": "code",
      "execution_count": 30,
      "metadata": {},
      "outputs": [
        {
          "data": {
            "text/html": [
              "<div>\n",
              "<style scoped>\n",
              "    .dataframe tbody tr th:only-of-type {\n",
              "        vertical-align: middle;\n",
              "    }\n",
              "\n",
              "    .dataframe tbody tr th {\n",
              "        vertical-align: top;\n",
              "    }\n",
              "\n",
              "    .dataframe thead th {\n",
              "        text-align: right;\n",
              "    }\n",
              "</style>\n",
              "<table border=\"1\" class=\"dataframe\">\n",
              "  <thead>\n",
              "    <tr style=\"text-align: right;\">\n",
              "      <th></th>\n",
              "      <th>hair_color</th>\n",
              "      <th>count</th>\n",
              "    </tr>\n",
              "  </thead>\n",
              "  <tbody>\n",
              "    <tr>\n",
              "      <th>0</th>\n",
              "      <td>black</td>\n",
              "      <td>167</td>\n",
              "    </tr>\n",
              "    <tr>\n",
              "      <th>1</th>\n",
              "      <td>brown</td>\n",
              "      <td>166</td>\n",
              "    </tr>\n",
              "    <tr>\n",
              "      <th>2</th>\n",
              "      <td>red</td>\n",
              "      <td>167</td>\n",
              "    </tr>\n",
              "    <tr>\n",
              "      <th>3</th>\n",
              "      <td>white</td>\n",
              "      <td>166</td>\n",
              "    </tr>\n",
              "  </tbody>\n",
              "</table>\n",
              "</div>"
            ],
            "text/plain": [
              "  hair_color  count\n",
              "0      black    167\n",
              "1      brown    166\n",
              "2        red    167\n",
              "3      white    166"
            ]
          },
          "execution_count": 30,
          "metadata": {},
          "output_type": "execute_result"
        }
      ],
      "source": [
        "computation = Aggregation(project,groups=[(\"hair_color\",[\"brown\", \"black\", \"red\", \"white\"])])\n",
        "computation.run(local=True)"
      ]
    },
    {
      "cell_type": "markdown",
      "metadata": {},
      "source": [
        "This group by operation can also be followed by computing the average or sum of values in each subgroup. For instance, we can compute the average height and weight for each hair color!"
      ]
    },
    {
      "cell_type": "code",
      "execution_count": 31,
      "metadata": {},
      "outputs": [
        {
          "data": {
            "text/html": [
              "<div>\n",
              "<style scoped>\n",
              "    .dataframe tbody tr th:only-of-type {\n",
              "        vertical-align: middle;\n",
              "    }\n",
              "\n",
              "    .dataframe tbody tr th {\n",
              "        vertical-align: top;\n",
              "    }\n",
              "\n",
              "    .dataframe thead th {\n",
              "        text-align: right;\n",
              "    }\n",
              "</style>\n",
              "<table border=\"1\" class=\"dataframe\">\n",
              "  <thead>\n",
              "    <tr style=\"text-align: right;\">\n",
              "      <th></th>\n",
              "      <th>hair_color</th>\n",
              "      <th>age</th>\n",
              "      <th>count</th>\n",
              "      <th>height</th>\n",
              "      <th>weight</th>\n",
              "      <th>average_height</th>\n",
              "      <th>average_weight</th>\n",
              "      <th>average_age</th>\n",
              "    </tr>\n",
              "  </thead>\n",
              "  <tbody>\n",
              "    <tr>\n",
              "      <th>0</th>\n",
              "      <td>black</td>\n",
              "      <td>9894</td>\n",
              "      <td>167</td>\n",
              "      <td>19984.64</td>\n",
              "      <td>13097.01</td>\n",
              "      <td>119.67</td>\n",
              "      <td>78.43</td>\n",
              "      <td>59.25</td>\n",
              "    </tr>\n",
              "    <tr>\n",
              "      <th>1</th>\n",
              "      <td>brown</td>\n",
              "      <td>10025</td>\n",
              "      <td>166</td>\n",
              "      <td>21345.23</td>\n",
              "      <td>13001.85</td>\n",
              "      <td>128.59</td>\n",
              "      <td>78.32</td>\n",
              "      <td>60.39</td>\n",
              "    </tr>\n",
              "    <tr>\n",
              "      <th>2</th>\n",
              "      <td>red</td>\n",
              "      <td>9562</td>\n",
              "      <td>167</td>\n",
              "      <td>20824.13</td>\n",
              "      <td>12778.84</td>\n",
              "      <td>124.70</td>\n",
              "      <td>76.52</td>\n",
              "      <td>57.26</td>\n",
              "    </tr>\n",
              "    <tr>\n",
              "      <th>3</th>\n",
              "      <td>white</td>\n",
              "      <td>10231</td>\n",
              "      <td>166</td>\n",
              "      <td>20168.21</td>\n",
              "      <td>12326.25</td>\n",
              "      <td>121.50</td>\n",
              "      <td>74.25</td>\n",
              "      <td>61.63</td>\n",
              "    </tr>\n",
              "  </tbody>\n",
              "</table>\n",
              "</div>"
            ],
            "text/plain": [
              "  hair_color    age  count    height    weight  average_height  \\\n",
              "0      black   9894    167  19984.64  13097.01          119.67   \n",
              "1      brown  10025    166  21345.23  13001.85          128.59   \n",
              "2        red   9562    167  20824.13  12778.84          124.70   \n",
              "3      white  10231    166  20168.21  12326.25          121.50   \n",
              "\n",
              "   average_weight  average_age  \n",
              "0           78.43        59.25  \n",
              "1           78.32        60.39  \n",
              "2           76.52        57.26  \n",
              "3           74.25        61.63  "
            ]
          },
          "execution_count": 31,
          "metadata": {},
          "output_type": "execute_result"
        }
      ],
      "source": [
        "computation = Aggregation(\n",
        "    project,\n",
        "    groups=[(\"hair_color\",[\"brown\", \"black\", \"red\", \"white\"])],\n",
        "    columns=[\"height\",\"weight\",\"age\"],\n",
        "    average=True\n",
        "    )\n",
        "computation.run(local=True)"
      ]
    },
    {
      "cell_type": "markdown",
      "metadata": {},
      "source": [
        "Or, perharps more usefully: let's see if people get taller as they get older (remember that correlation in the mock data?)."
      ]
    },
    {
      "cell_type": "code",
      "execution_count": 32,
      "metadata": {},
      "outputs": [
        {
          "data": {
            "text/html": [
              "<div>\n",
              "<style scoped>\n",
              "    .dataframe tbody tr th:only-of-type {\n",
              "        vertical-align: middle;\n",
              "    }\n",
              "\n",
              "    .dataframe tbody tr th {\n",
              "        vertical-align: top;\n",
              "    }\n",
              "\n",
              "    .dataframe thead th {\n",
              "        text-align: right;\n",
              "    }\n",
              "</style>\n",
              "<table border=\"1\" class=\"dataframe\">\n",
              "  <thead>\n",
              "    <tr style=\"text-align: right;\">\n",
              "      <th></th>\n",
              "      <th>age</th>\n",
              "      <th>count</th>\n",
              "      <th>height</th>\n",
              "      <th>weight</th>\n",
              "      <th>average_height</th>\n",
              "      <th>average_weight</th>\n",
              "    </tr>\n",
              "  </thead>\n",
              "  <tbody>\n",
              "    <tr>\n",
              "      <th>0</th>\n",
              "      <td>(,20)</td>\n",
              "      <td>164</td>\n",
              "      <td>16359.10</td>\n",
              "      <td>10023.09</td>\n",
              "      <td>99.75</td>\n",
              "      <td>61.12</td>\n",
              "    </tr>\n",
              "    <tr>\n",
              "      <th>1</th>\n",
              "      <td>[20,40)</td>\n",
              "      <td>163</td>\n",
              "      <td>17578.73</td>\n",
              "      <td>10525.46</td>\n",
              "      <td>107.84</td>\n",
              "      <td>64.57</td>\n",
              "    </tr>\n",
              "    <tr>\n",
              "      <th>2</th>\n",
              "      <td>[40,60)</td>\n",
              "      <td>165</td>\n",
              "      <td>19899.11</td>\n",
              "      <td>12696.64</td>\n",
              "      <td>120.60</td>\n",
              "      <td>76.95</td>\n",
              "    </tr>\n",
              "    <tr>\n",
              "      <th>3</th>\n",
              "      <td>[60,80)</td>\n",
              "      <td>168</td>\n",
              "      <td>21845.06</td>\n",
              "      <td>13772.14</td>\n",
              "      <td>130.03</td>\n",
              "      <td>81.98</td>\n",
              "    </tr>\n",
              "    <tr>\n",
              "      <th>4</th>\n",
              "      <td>[80,)</td>\n",
              "      <td>340</td>\n",
              "      <td>49389.56</td>\n",
              "      <td>30757.89</td>\n",
              "      <td>145.26</td>\n",
              "      <td>90.46</td>\n",
              "    </tr>\n",
              "  </tbody>\n",
              "</table>\n",
              "</div>"
            ],
            "text/plain": [
              "       age  count    height    weight  average_height  average_weight\n",
              "0    (,20)    164  16359.10  10023.09           99.75           61.12\n",
              "1  [20,40)    163  17578.73  10525.46          107.84           64.57\n",
              "2  [40,60)    165  19899.11  12696.64          120.60           76.95\n",
              "3  [60,80)    168  21845.06  13772.14          130.03           81.98\n",
              "4    [80,)    340  49389.56  30757.89          145.26           90.46"
            ]
          },
          "execution_count": 32,
          "metadata": {},
          "output_type": "execute_result"
        }
      ],
      "source": [
        "computation = Aggregation(\n",
        "    project,\n",
        "    groups=[(\"age\",[20,40,60,80])],\n",
        "    columns=[\"height\",\"weight\"],\n",
        "    average=True\n",
        "    )\n",
        "computation.run()"
      ]
    },
    {
      "cell_type": "markdown",
      "metadata": {},
      "source": [
        "### Conclusion\n",
        "\n",
        "In this notebook, we learned how to use Diapason to set up a simple project, create mock data, and compute statistics over the data. This highlighted a few key features of Diapason:\n",
        "- Access to advanced computations types, such as `Statistics`,\n",
        "- Ability to run multiple, dynamically adjusted, computations on a project,\n",
        "- Preprocessing operations to tailor the project to complex use cases.\n",
        "\n",
        "But we've barely scratched the surface: there's many more things that can be done with Diapason. Refer to [the documentation](https://dev.tuneinsight.com/docs/Usage/python-sdk/) and other tutorial notebooks for more details."
      ]
    }
  ],
  "metadata": {
    "kernelspec": {
      "display_name": "python-sdk",
      "language": "python",
      "name": "python3"
    },
    "language_info": {
      "codemirror_mode": {
        "name": "ipython",
        "version": 3
      },
      "file_extension": ".py",
      "mimetype": "text/x-python",
      "name": "python",
      "nbconvert_exporter": "python",
      "pygments_lexer": "ipython3",
      "version": "3.11.9"
    }
  },
  "nbformat": 4,
  "nbformat_minor": 2
}
